{
 "cells": [
  {
   "cell_type": "code",
   "execution_count": 22,
   "metadata": {
    "scrolled": false
   },
   "outputs": [
    {
     "name": "stderr",
     "output_type": "stream",
     "text": [
      "C:\\Users\\patel\\Anaconda3\\envs\\mlenv\\lib\\site-packages\\IPython\\core\\interactiveshell.py:3063: DtypeWarning: Columns (11) have mixed types.Specify dtype option on import or set low_memory=False.\n",
      "  interactivity=interactivity, compiler=compiler, result=result)\n"
     ]
    },
    {
     "data": {
      "text/html": [
       "<div>\n",
       "<style scoped>\n",
       "    .dataframe tbody tr th:only-of-type {\n",
       "        vertical-align: middle;\n",
       "    }\n",
       "\n",
       "    .dataframe tbody tr th {\n",
       "        vertical-align: top;\n",
       "    }\n",
       "\n",
       "    .dataframe thead th {\n",
       "        text-align: right;\n",
       "    }\n",
       "</style>\n",
       "<table border=\"1\" class=\"dataframe\">\n",
       "  <thead>\n",
       "    <tr style=\"text-align: right;\">\n",
       "      <th></th>\n",
       "      <th>reportedcity</th>\n",
       "      <th>dateofloss</th>\n",
       "      <th>elevationdifference</th>\n",
       "      <th>floodzone</th>\n",
       "      <th>latitude</th>\n",
       "      <th>longitude</th>\n",
       "      <th>numberoffloorsintheinsuredbuilding</th>\n",
       "      <th>occupancytype</th>\n",
       "      <th>originalconstructiondate</th>\n",
       "      <th>amountpaidonbuildingclaim</th>\n",
       "      <th>state</th>\n",
       "      <th>reportedzipcode</th>\n",
       "    </tr>\n",
       "  </thead>\n",
       "  <tbody>\n",
       "    <tr>\n",
       "      <th>0</th>\n",
       "      <td>OCEANSIDE</td>\n",
       "      <td>1998-02-07</td>\n",
       "      <td>999.0</td>\n",
       "      <td>X</td>\n",
       "      <td>33.2</td>\n",
       "      <td>-117.3</td>\n",
       "      <td>4.0</td>\n",
       "      <td>1.0</td>\n",
       "      <td>1963-01-01</td>\n",
       "      <td>0.00</td>\n",
       "      <td>CA</td>\n",
       "      <td>92056</td>\n",
       "    </tr>\n",
       "    <tr>\n",
       "      <th>1</th>\n",
       "      <td>NEW ORLEANS</td>\n",
       "      <td>2005-08-29</td>\n",
       "      <td>999.0</td>\n",
       "      <td>X</td>\n",
       "      <td>29.9</td>\n",
       "      <td>-90.0</td>\n",
       "      <td>2.0</td>\n",
       "      <td>1.0</td>\n",
       "      <td>1967-07-01</td>\n",
       "      <td>0.00</td>\n",
       "      <td>LA</td>\n",
       "      <td>70131</td>\n",
       "    </tr>\n",
       "    <tr>\n",
       "      <th>2</th>\n",
       "      <td>NAVARRE</td>\n",
       "      <td>1998-09-28</td>\n",
       "      <td>999.0</td>\n",
       "      <td>X</td>\n",
       "      <td>30.4</td>\n",
       "      <td>-86.9</td>\n",
       "      <td>1.0</td>\n",
       "      <td>1.0</td>\n",
       "      <td>1972-01-01</td>\n",
       "      <td>8813.21</td>\n",
       "      <td>FL</td>\n",
       "      <td>32566</td>\n",
       "    </tr>\n",
       "    <tr>\n",
       "      <th>3</th>\n",
       "      <td>BEAUFORT</td>\n",
       "      <td>1994-10-07</td>\n",
       "      <td>999.0</td>\n",
       "      <td>X</td>\n",
       "      <td>32.4</td>\n",
       "      <td>-80.7</td>\n",
       "      <td>2.0</td>\n",
       "      <td>1.0</td>\n",
       "      <td>1960-01-01</td>\n",
       "      <td>2906.00</td>\n",
       "      <td>SC</td>\n",
       "      <td>29902</td>\n",
       "    </tr>\n",
       "    <tr>\n",
       "      <th>4</th>\n",
       "      <td>MELBOURNE</td>\n",
       "      <td>1996-03-11</td>\n",
       "      <td>999.0</td>\n",
       "      <td>X</td>\n",
       "      <td>28.3</td>\n",
       "      <td>-80.7</td>\n",
       "      <td>1.0</td>\n",
       "      <td>1.0</td>\n",
       "      <td>1988-01-01</td>\n",
       "      <td>3875.53</td>\n",
       "      <td>FL</td>\n",
       "      <td>32940</td>\n",
       "    </tr>\n",
       "  </tbody>\n",
       "</table>\n",
       "</div>"
      ],
      "text/plain": [
       "  reportedcity  dateofloss  elevationdifference floodzone  latitude  \\\n",
       "0    OCEANSIDE  1998-02-07                999.0         X      33.2   \n",
       "1  NEW ORLEANS  2005-08-29                999.0         X      29.9   \n",
       "2      NAVARRE  1998-09-28                999.0         X      30.4   \n",
       "3     BEAUFORT  1994-10-07                999.0         X      32.4   \n",
       "4    MELBOURNE  1996-03-11                999.0         X      28.3   \n",
       "\n",
       "   longitude  numberoffloorsintheinsuredbuilding  occupancytype  \\\n",
       "0     -117.3                                 4.0            1.0   \n",
       "1      -90.0                                 2.0            1.0   \n",
       "2      -86.9                                 1.0            1.0   \n",
       "3      -80.7                                 2.0            1.0   \n",
       "4      -80.7                                 1.0            1.0   \n",
       "\n",
       "  originalconstructiondate  amountpaidonbuildingclaim state reportedzipcode  \n",
       "0               1963-01-01                       0.00    CA           92056  \n",
       "1               1967-07-01                       0.00    LA           70131  \n",
       "2               1972-01-01                    8813.21    FL           32566  \n",
       "3               1960-01-01                    2906.00    SC           29902  \n",
       "4               1988-01-01                    3875.53    FL           32940  "
      ]
     },
     "execution_count": 22,
     "metadata": {},
     "output_type": "execute_result"
    }
   ],
   "source": [
    "# Import our dependencies\n",
    "from sklearn.model_selection import train_test_split\n",
    "from sklearn.preprocessing import StandardScaler,OneHotEncoder\n",
    "from sklearn.preprocessing import StandardScaler\n",
    "from sklearn.ensemble import RandomForestClassifier\n",
    "from sklearn.metrics import accuracy_score\n",
    "import pandas as pd\n",
    "from pathlib import Path\n",
    "#import tensorflow as tf\n",
    "\n",
    "# Import our input dataset\n",
    "#data = Path('./Data/FIMA_cleaned.csv')\n",
    "data = Path('./Data/FEMA_Clean14.csv')\n",
    "FEMA_df = pd.read_csv(data)\n",
    "FEMA_df.head()"
   ]
  },
  {
   "cell_type": "code",
   "execution_count": 32,
   "metadata": {},
   "outputs": [],
   "source": [
    "df = FEMA_df.copy()\n",
    "df = df.drop(\"reportedzipcode\", axis=1)\n",
    "#df = df.drop(\"state\", axis=1)\n",
    "#df = df.drop(\"floodzone\", axis=1)\n",
    "df = df.drop(\"dateofloss\", axis=1)\n",
    "df = df.drop(\"originalconstructiondate\", axis=1)\n",
    "df = df.drop(\"reportedcity\", axis=1)\n",
    "#df = df.drop(\"latitude\", axis=1)\n",
    "#df = df.drop(\"longitude\", axis=1)\n",
    "FEMA_encoded = pd.get_dummies(df, columns=[\"state\", \"floodzone\"])#, \"reportedzipcode\"])\n",
    "\n",
    "\n",
    "y =FEMA_encoded.copy()\n",
    "X = FEMA_encoded.copy()\n",
    "X = X.drop(\"amountpaidonbuildingclaim\", axis=1)\n"
   ]
  },
  {
   "cell_type": "code",
   "execution_count": 33,
   "metadata": {},
   "outputs": [],
   "source": [
    "# Split the X and y into X_train, X_test, y_train, y_test\n",
    "from sklearn.model_selection import train_test_split\n",
    "X_train, X_test, y_train, y_test = train_test_split(X,\n",
    "                                                   y['amountpaidonbuildingclaim'],\n",
    "                                                   random_state=1)"
   ]
  },
  {
   "cell_type": "code",
   "execution_count": 34,
   "metadata": {},
   "outputs": [
    {
     "data": {
      "text/plain": [
       "(1489762, 138)"
      ]
     },
     "execution_count": 34,
     "metadata": {},
     "output_type": "execute_result"
    }
   ],
   "source": [
    "#X_train.dtypes\n",
    "X_train.shape"
   ]
  },
  {
   "cell_type": "code",
   "execution_count": 35,
   "metadata": {},
   "outputs": [
    {
     "data": {
      "text/plain": [
       "LinearRegression(copy_X=True, fit_intercept=True, n_jobs=None, normalize=False)"
      ]
     },
     "execution_count": 35,
     "metadata": {},
     "output_type": "execute_result"
    }
   ],
   "source": [
    "# Train the Classifier\n",
    "\n",
    "from sklearn.linear_model import LinearRegression\n",
    "\n",
    "#random forest, neural networks with linear regression\n",
    "model = LinearRegression() \n",
    "model.fit(X_train, y_train)\n"
   ]
  },
  {
   "cell_type": "code",
   "execution_count": 36,
   "metadata": {},
   "outputs": [
    {
     "data": {
      "text/plain": [
       "0.06981193690929988"
      ]
     },
     "execution_count": 36,
     "metadata": {},
     "output_type": "execute_result"
    }
   ],
   "source": [
    "model.score(X_test, y_test)"
   ]
  },
  {
   "cell_type": "code",
   "execution_count": 37,
   "metadata": {},
   "outputs": [
    {
     "data": {
      "image/png": "[encoded data removed]",
      "text/plain": [
       "<Figure size 432x288 with 1 Axes>"
      ]
     },
     "metadata": {
      "needs_background": "light"
     },
     "output_type": "display_data"
    }
   ],
   "source": [
    "import matplotlib.pyplot as plt\n",
    "plt.scatter(FEMA_df.dateofloss,FEMA_df.amountpaidonbuildingclaim)\n",
    "plt.xlabel('Date of loss')\n",
    "plt.ylabel('FEMA Payout')\n",
    "plt.show()"
   ]
  }
 ],
 "metadata": {
  "kernelspec": {
   "display_name": "mlenv",
   "language": "python",
   "name": "mlenv"
  },
  "language_info": {
   "codemirror_mode": {
    "name": "ipython",
    "version": 3
   },
   "file_extension": ".py",
   "mimetype": "text/x-python",
   "name": "python",
   "nbconvert_exporter": "python",
   "pygments_lexer": "ipython3",
   "version": "3.7.6"
  }
 },
 "nbformat": 4,
 "nbformat_minor": 2
}
